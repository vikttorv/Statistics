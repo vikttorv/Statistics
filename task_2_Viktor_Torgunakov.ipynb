{
  "cells": [
    {
      "cell_type": "code",
      "execution_count": null,
      "metadata": {
        "id": "i7Bpa1MIJYmi"
      },
      "outputs": [],
      "source": [
        "import numpy as np\n",
        "import scipy\n",
        "import scipy.stats\n",
        "import pandas as pd\n",
        "import matplotlib.pyplot as plt\n",
        "import math"
      ]
    },
    {
      "cell_type": "markdown",
      "metadata": {
        "id": "HnvpV6K3JYmj"
      },
      "source": [
        "# Homework 2\n",
        "## Hypothesis testing"
      ]
    },
    {
      "cell_type": "markdown",
      "metadata": {
        "id": "nExLcZiQJYml"
      },
      "source": [
        "Maximum number of points for this hometask is 10. Some tasks allow you to get a bonus point, that **can not** increase your total score for the homework beyond the maximum, but can compensate for some occasionally lost points."
      ]
    },
    {
      "cell_type": "markdown",
      "metadata": {
        "id": "NM2Q_fjlJYml"
      },
      "source": [
        "### Task 1 (1.5 points)"
      ]
    },
    {
      "cell_type": "markdown",
      "metadata": {
        "id": "-2t7kII1JYml"
      },
      "source": [
        "A randomized, double-blind experiment was conducted to assess the\n",
        "effectiveness of several drugs for reducing postoperative nausea. The\n",
        "data are as follows:"
      ]
    },
    {
      "cell_type": "code",
      "execution_count": 66,
      "metadata": {
        "colab": {
          "base_uri": "https://localhost:8080/",
          "height": 206
        },
        "id": "HD1M-w_eJYml",
        "outputId": "9650e53d-2b95-4b3f-fa29-ee5dc279f0fe"
      },
      "outputs": [
        {
          "output_type": "execute_result",
          "data": {
            "text/plain": [
              "                     Drug  Number of Patients  Incidence of Nausea\n",
              "0                 Placebo                  80                   45\n",
              "1          Chlorpromazine                  75                   26\n",
              "2          Dimenhydrinate                  85                   52\n",
              "3  Pentobarbital (100 mg)                  67                   35\n",
              "4  Pentobarbital (150 mg)                  85                   37"
            ],
            "text/html": [
              "\n",
              "  <div id=\"df-e1df5a0b-129b-4198-8478-2e5c0f2e8257\">\n",
              "    <div class=\"colab-df-container\">\n",
              "      <div>\n",
              "<style scoped>\n",
              "    .dataframe tbody tr th:only-of-type {\n",
              "        vertical-align: middle;\n",
              "    }\n",
              "\n",
              "    .dataframe tbody tr th {\n",
              "        vertical-align: top;\n",
              "    }\n",
              "\n",
              "    .dataframe thead th {\n",
              "        text-align: right;\n",
              "    }\n",
              "</style>\n",
              "<table border=\"1\" class=\"dataframe\">\n",
              "  <thead>\n",
              "    <tr style=\"text-align: right;\">\n",
              "      <th></th>\n",
              "      <th>Drug</th>\n",
              "      <th>Number of Patients</th>\n",
              "      <th>Incidence of Nausea</th>\n",
              "    </tr>\n",
              "  </thead>\n",
              "  <tbody>\n",
              "    <tr>\n",
              "      <th>0</th>\n",
              "      <td>Placebo</td>\n",
              "      <td>80</td>\n",
              "      <td>45</td>\n",
              "    </tr>\n",
              "    <tr>\n",
              "      <th>1</th>\n",
              "      <td>Chlorpromazine</td>\n",
              "      <td>75</td>\n",
              "      <td>26</td>\n",
              "    </tr>\n",
              "    <tr>\n",
              "      <th>2</th>\n",
              "      <td>Dimenhydrinate</td>\n",
              "      <td>85</td>\n",
              "      <td>52</td>\n",
              "    </tr>\n",
              "    <tr>\n",
              "      <th>3</th>\n",
              "      <td>Pentobarbital (100 mg)</td>\n",
              "      <td>67</td>\n",
              "      <td>35</td>\n",
              "    </tr>\n",
              "    <tr>\n",
              "      <th>4</th>\n",
              "      <td>Pentobarbital (150 mg)</td>\n",
              "      <td>85</td>\n",
              "      <td>37</td>\n",
              "    </tr>\n",
              "  </tbody>\n",
              "</table>\n",
              "</div>\n",
              "      <button class=\"colab-df-convert\" onclick=\"convertToInteractive('df-e1df5a0b-129b-4198-8478-2e5c0f2e8257')\"\n",
              "              title=\"Convert this dataframe to an interactive table.\"\n",
              "              style=\"display:none;\">\n",
              "        \n",
              "  <svg xmlns=\"http://www.w3.org/2000/svg\" height=\"24px\"viewBox=\"0 0 24 24\"\n",
              "       width=\"24px\">\n",
              "    <path d=\"M0 0h24v24H0V0z\" fill=\"none\"/>\n",
              "    <path d=\"M18.56 5.44l.94 2.06.94-2.06 2.06-.94-2.06-.94-.94-2.06-.94 2.06-2.06.94zm-11 1L8.5 8.5l.94-2.06 2.06-.94-2.06-.94L8.5 2.5l-.94 2.06-2.06.94zm10 10l.94 2.06.94-2.06 2.06-.94-2.06-.94-.94-2.06-.94 2.06-2.06.94z\"/><path d=\"M17.41 7.96l-1.37-1.37c-.4-.4-.92-.59-1.43-.59-.52 0-1.04.2-1.43.59L10.3 9.45l-7.72 7.72c-.78.78-.78 2.05 0 2.83L4 21.41c.39.39.9.59 1.41.59.51 0 1.02-.2 1.41-.59l7.78-7.78 2.81-2.81c.8-.78.8-2.07 0-2.86zM5.41 20L4 18.59l7.72-7.72 1.47 1.35L5.41 20z\"/>\n",
              "  </svg>\n",
              "      </button>\n",
              "      \n",
              "  <style>\n",
              "    .colab-df-container {\n",
              "      display:flex;\n",
              "      flex-wrap:wrap;\n",
              "      gap: 12px;\n",
              "    }\n",
              "\n",
              "    .colab-df-convert {\n",
              "      background-color: #E8F0FE;\n",
              "      border: none;\n",
              "      border-radius: 50%;\n",
              "      cursor: pointer;\n",
              "      display: none;\n",
              "      fill: #1967D2;\n",
              "      height: 32px;\n",
              "      padding: 0 0 0 0;\n",
              "      width: 32px;\n",
              "    }\n",
              "\n",
              "    .colab-df-convert:hover {\n",
              "      background-color: #E2EBFA;\n",
              "      box-shadow: 0px 1px 2px rgba(60, 64, 67, 0.3), 0px 1px 3px 1px rgba(60, 64, 67, 0.15);\n",
              "      fill: #174EA6;\n",
              "    }\n",
              "\n",
              "    [theme=dark] .colab-df-convert {\n",
              "      background-color: #3B4455;\n",
              "      fill: #D2E3FC;\n",
              "    }\n",
              "\n",
              "    [theme=dark] .colab-df-convert:hover {\n",
              "      background-color: #434B5C;\n",
              "      box-shadow: 0px 1px 3px 1px rgba(0, 0, 0, 0.15);\n",
              "      filter: drop-shadow(0px 1px 2px rgba(0, 0, 0, 0.3));\n",
              "      fill: #FFFFFF;\n",
              "    }\n",
              "  </style>\n",
              "\n",
              "      <script>\n",
              "        const buttonEl =\n",
              "          document.querySelector('#df-e1df5a0b-129b-4198-8478-2e5c0f2e8257 button.colab-df-convert');\n",
              "        buttonEl.style.display =\n",
              "          google.colab.kernel.accessAllowed ? 'block' : 'none';\n",
              "\n",
              "        async function convertToInteractive(key) {\n",
              "          const element = document.querySelector('#df-e1df5a0b-129b-4198-8478-2e5c0f2e8257');\n",
              "          const dataTable =\n",
              "            await google.colab.kernel.invokeFunction('convertToInteractive',\n",
              "                                                     [key], {});\n",
              "          if (!dataTable) return;\n",
              "\n",
              "          const docLinkHtml = 'Like what you see? Visit the ' +\n",
              "            '<a target=\"_blank\" href=https://colab.research.google.com/notebooks/data_table.ipynb>data table notebook</a>'\n",
              "            + ' to learn more about interactive tables.';\n",
              "          element.innerHTML = '';\n",
              "          dataTable['output_type'] = 'display_data';\n",
              "          await google.colab.output.renderOutput(dataTable, element);\n",
              "          const docLink = document.createElement('div');\n",
              "          docLink.innerHTML = docLinkHtml;\n",
              "          element.appendChild(docLink);\n",
              "        }\n",
              "      </script>\n",
              "    </div>\n",
              "  </div>\n",
              "  "
            ]
          },
          "metadata": {},
          "execution_count": 66
        }
      ],
      "source": [
        "df1 = pd.DataFrame({'Drug': ['Placebo', 'Chlorpromazine', 'Dimenhydrinate', 'Pentobarbital (100 mg)', 'Pentobarbital (150 mg)'],\n",
        "                    'Number of Patients': [80, 75, 85, 67, 85],\n",
        "                    'Incidence of Nausea': [45, 26, 52, 35, 37]})\n",
        "df1"
      ]
    },
    {
      "cell_type": "markdown",
      "metadata": {
        "id": "eLFIh-XOJYmn"
      },
      "source": [
        "Test each drug versus the placebo at the 5 per cent level. Also, report\n",
        "the estimated odds–ratios. Summarize your findings. (1.5 points)\n",
        "*Hint*. Use simple $H_0$: \"$p = p_0$\"."
      ]
    },
    {
      "cell_type": "markdown",
      "source": [
        "**Solution:**"
      ],
      "metadata": {
        "id": "F0kYewuFOxUW"
      }
    },
    {
      "cell_type": "markdown",
      "source": [
        "Рассмотрим нулевую гипотезу следующего вида:\n",
        "\n",
        "$H_0: p = p_0$, где $p_0$ - это вероятность тошноты при приёме плацебо, а $p$ - вероятность тошноты при приёме изучаемого лекарства. Равеноство вероятностей для распределения Бернулли по сути равносильно равенству распределений, поэтому в данном случае можно применить permutation test. "
      ],
      "metadata": {
        "id": "8hcSMbndCALj"
      }
    },
    {
      "cell_type": "code",
      "source": [
        "def compute_permutation_metric (array, n, metric):\n",
        "    if metric == \"mean\":\n",
        "        array1 = array[:n]\n",
        "        array2 = array[n:]\n",
        "        mean1 = np.mean (array1)\n",
        "        mean2 = np.mean (array2) \n",
        "        return abs (mean2 - mean1)\n",
        "    elif metric == \"percentile20oneside\":\n",
        "        array1 = array[:n]\n",
        "        array2 = array[n:]\n",
        "        percentile1 = np.percentile (array1, 20)\n",
        "        percentile2 = np.percentile (array2, 20)\n",
        "        return percentile2 - percentile1  \n",
        "    elif metric == \"percentile20\":\n",
        "        array1 = array[:n]\n",
        "        array2 = array[n:]\n",
        "        percentile1 = np.percentile (array1, 20)\n",
        "        percentile2 = np.percentile (array2, 20)\n",
        "        return abs (percentile2 - percentile1)        \n",
        "    else:\n",
        "        print (\"Incorrect metric name: {}\".format (metric))\n",
        "        exit (-1)\n",
        "\n",
        "\n",
        "def permutation_test (x_samples, y_samples, num_samples, metric):\n",
        "    all_samples = np.concatenate ([x_samples, y_samples])\n",
        "    initial_value = compute_permutation_metric (all_samples, x_samples.size, metric)\n",
        "    permutations = set ()\n",
        "    metric_array = np.zeros (num_samples)\n",
        "    for num in range (num_samples):\n",
        "        while 1:\n",
        "            permutation = np.random.permutation (all_samples)\n",
        "            if tuple (permutation) not in permutations:\n",
        "                permutations.add (tuple (permutation))\n",
        "                metric_array[num] = compute_permutation_metric (permutation, x_samples.size, metric)\n",
        "                break\n",
        "    top = (metric_array > initial_value).sum ()\n",
        "    bottom = metric_array.size\n",
        "    return top / bottom"
      ],
      "metadata": {
        "id": "cW0yuywLRes1"
      },
      "execution_count": 106,
      "outputs": []
    },
    {
      "cell_type": "code",
      "execution_count": 84,
      "metadata": {
        "colab": {
          "base_uri": "https://localhost:8080/"
        },
        "id": "xs2Jalq5JYmo",
        "outputId": "5df77c42-1c4b-4ff9-fde7-badcfac71dff"
      },
      "outputs": [
        {
          "output_type": "stream",
          "name": "stdout",
          "text": [
            "p_value1 = 0.006\n",
            "p_value2 = 0.4285\n",
            "p_value3 = 0.6278\n",
            "p_value4 = 0.0833\n"
          ]
        }
      ],
      "source": [
        "N = 10000\n",
        "num_drugs = 4\n",
        "\n",
        "placebo_samples = np.array ([1 if ind < df1[\"Incidence of Nausea\"][0] else 0 for ind in range (df1[\"Number of Patients\"][0])])\n",
        "samples1 = np.array ([1 if ind < df1[\"Incidence of Nausea\"][1] else 0 for ind in range (df1[\"Number of Patients\"][1])])\n",
        "samples2 = np.array ([1 if ind < df1[\"Incidence of Nausea\"][2] else 0 for ind in range (df1[\"Number of Patients\"][2])])\n",
        "samples3 = np.array ([1 if ind < df1[\"Incidence of Nausea\"][3] else 0 for ind in range (df1[\"Number of Patients\"][3])])\n",
        "samples4 = np.array ([1 if ind < df1[\"Incidence of Nausea\"][4] else 0 for ind in range (df1[\"Number of Patients\"][4])])\n",
        "\n",
        "\n",
        "p_values = [permutation_test (placebo_samples, samples1, N, \"mean\"), permutation_test (placebo_samples, samples2, N, \"mean\"), permutation_test (placebo_samples, samples3, N, \"mean\"),\n",
        "            permutation_test (placebo_samples, samples4, N, \"mean\")]\n",
        "\n",
        "\n",
        "for ind in range (0, num_drugs):\n",
        "    print (\"p_value{} = {}\".format (ind + 1, p_values[ind]))\n",
        "\n"
      ]
    },
    {
      "cell_type": "markdown",
      "source": [
        "По полученным результатам можно сказать, что для лекарства Chlorpromazine\tможно отклонить нулевую гипотезу, так как для него p_value ниже порога. В свою очередь, для остальных лекарств мы не можем опровергнуть нулевую гипотезу, так как p_value выше порога.\n",
        "\n",
        "Теперь оценим odds ratio по формуле:\n",
        "$R = \\frac{D_d}{H_d}/\\frac{D_p}{H_p}$, where $D_d$ - number of people with nausea after taking a drug; $H_d$ - number of people without nausea after taking a drug; $D_p$  number of people with nausea after taking a placebo; $H_d$ - number of people without nausea after taking a placebo;"
      ],
      "metadata": {
        "id": "xGOVoSJ0VLtg"
      }
    },
    {
      "cell_type": "code",
      "source": [
        "def compute_odds_ratio (k1, n1, k2, n2):\n",
        "    return (k1 * n2) / (n1 * k2)"
      ],
      "metadata": {
        "id": "CXRbbpk5Xz6i"
      },
      "execution_count": 107,
      "outputs": []
    },
    {
      "cell_type": "code",
      "source": [
        "ratios = [0] * num_drugs\n",
        "\n",
        "for ind in range (num_drugs):\n",
        "    ratios[ind] = compute_odds_ratio (df1[\"Incidence of Nausea\"][ind + 1], df1[\"Number of Patients\"][ind + 1] - df1[\"Incidence of Nausea\"][ind + 1], df1[\"Incidence of Nausea\"][0], df1[\"Number of Patients\"][0] - df1[\"Incidence of Nausea\"][0])\n",
        "print (ratios)"
      ],
      "metadata": {
        "colab": {
          "base_uri": "https://localhost:8080/"
        },
        "id": "iUuFl4JfWToj",
        "outputId": "069d24c2-ae48-45bd-beb6-c225c00e9941"
      },
      "execution_count": 108,
      "outputs": [
        {
          "output_type": "stream",
          "name": "stdout",
          "text": [
            "[0.4126984126984127, 1.2255892255892256, 0.8506944444444444, 0.5995370370370371]\n"
          ]
        }
      ]
    },
    {
      "cell_type": "markdown",
      "source": [
        "Из результатов видно, что chlorpromazine эффективен при лечении тошноты, так как его odds ratio меньше единицы, а p_value меньше порога. В свою очередь, dimenhydrinate неэффективен при лечении тошноты, так как его odds-ratio больше единицы. Эффективность двух других лекарств не подтверждена, так как их odds ratio меньше единицы, а p_value выше порога."
      ],
      "metadata": {
        "id": "FztnwoILYaDe"
      }
    },
    {
      "cell_type": "markdown",
      "metadata": {
        "id": "nsqE-mmOJYmo"
      },
      "source": [
        "### Task 2: permutation test (2 points)"
      ]
    },
    {
      "cell_type": "markdown",
      "metadata": {
        "id": "wGBUGAD6JYmp"
      },
      "source": [
        "For this task we will use the famous Iris dataset, originaly studied by R.A. Fisher himself."
      ]
    },
    {
      "cell_type": "code",
      "execution_count": 120,
      "metadata": {
        "scrolled": true,
        "colab": {
          "base_uri": "https://localhost:8080/",
          "height": 206
        },
        "id": "hyp-vUfbJYmp",
        "outputId": "fbf1d2e6-8735-4a15-d128-2927c66f476a"
      },
      "outputs": [
        {
          "output_type": "execute_result",
          "data": {
            "text/plain": [
              "   sepal_length  sepal_width  petal_length  petal_width species\n",
              "0           5.1          3.5           1.4          0.2  setosa\n",
              "1           4.9          3.0           1.4          0.2  setosa\n",
              "2           4.7          3.2           1.3          0.2  setosa\n",
              "3           4.6          3.1           1.5          0.2  setosa\n",
              "4           5.0          3.6           1.4          0.2  setosa"
            ],
            "text/html": [
              "\n",
              "  <div id=\"df-4ab2a4ac-94f9-430a-8874-0331e861c9eb\">\n",
              "    <div class=\"colab-df-container\">\n",
              "      <div>\n",
              "<style scoped>\n",
              "    .dataframe tbody tr th:only-of-type {\n",
              "        vertical-align: middle;\n",
              "    }\n",
              "\n",
              "    .dataframe tbody tr th {\n",
              "        vertical-align: top;\n",
              "    }\n",
              "\n",
              "    .dataframe thead th {\n",
              "        text-align: right;\n",
              "    }\n",
              "</style>\n",
              "<table border=\"1\" class=\"dataframe\">\n",
              "  <thead>\n",
              "    <tr style=\"text-align: right;\">\n",
              "      <th></th>\n",
              "      <th>sepal_length</th>\n",
              "      <th>sepal_width</th>\n",
              "      <th>petal_length</th>\n",
              "      <th>petal_width</th>\n",
              "      <th>species</th>\n",
              "    </tr>\n",
              "  </thead>\n",
              "  <tbody>\n",
              "    <tr>\n",
              "      <th>0</th>\n",
              "      <td>5.1</td>\n",
              "      <td>3.5</td>\n",
              "      <td>1.4</td>\n",
              "      <td>0.2</td>\n",
              "      <td>setosa</td>\n",
              "    </tr>\n",
              "    <tr>\n",
              "      <th>1</th>\n",
              "      <td>4.9</td>\n",
              "      <td>3.0</td>\n",
              "      <td>1.4</td>\n",
              "      <td>0.2</td>\n",
              "      <td>setosa</td>\n",
              "    </tr>\n",
              "    <tr>\n",
              "      <th>2</th>\n",
              "      <td>4.7</td>\n",
              "      <td>3.2</td>\n",
              "      <td>1.3</td>\n",
              "      <td>0.2</td>\n",
              "      <td>setosa</td>\n",
              "    </tr>\n",
              "    <tr>\n",
              "      <th>3</th>\n",
              "      <td>4.6</td>\n",
              "      <td>3.1</td>\n",
              "      <td>1.5</td>\n",
              "      <td>0.2</td>\n",
              "      <td>setosa</td>\n",
              "    </tr>\n",
              "    <tr>\n",
              "      <th>4</th>\n",
              "      <td>5.0</td>\n",
              "      <td>3.6</td>\n",
              "      <td>1.4</td>\n",
              "      <td>0.2</td>\n",
              "      <td>setosa</td>\n",
              "    </tr>\n",
              "  </tbody>\n",
              "</table>\n",
              "</div>\n",
              "      <button class=\"colab-df-convert\" onclick=\"convertToInteractive('df-4ab2a4ac-94f9-430a-8874-0331e861c9eb')\"\n",
              "              title=\"Convert this dataframe to an interactive table.\"\n",
              "              style=\"display:none;\">\n",
              "        \n",
              "  <svg xmlns=\"http://www.w3.org/2000/svg\" height=\"24px\"viewBox=\"0 0 24 24\"\n",
              "       width=\"24px\">\n",
              "    <path d=\"M0 0h24v24H0V0z\" fill=\"none\"/>\n",
              "    <path d=\"M18.56 5.44l.94 2.06.94-2.06 2.06-.94-2.06-.94-.94-2.06-.94 2.06-2.06.94zm-11 1L8.5 8.5l.94-2.06 2.06-.94-2.06-.94L8.5 2.5l-.94 2.06-2.06.94zm10 10l.94 2.06.94-2.06 2.06-.94-2.06-.94-.94-2.06-.94 2.06-2.06.94z\"/><path d=\"M17.41 7.96l-1.37-1.37c-.4-.4-.92-.59-1.43-.59-.52 0-1.04.2-1.43.59L10.3 9.45l-7.72 7.72c-.78.78-.78 2.05 0 2.83L4 21.41c.39.39.9.59 1.41.59.51 0 1.02-.2 1.41-.59l7.78-7.78 2.81-2.81c.8-.78.8-2.07 0-2.86zM5.41 20L4 18.59l7.72-7.72 1.47 1.35L5.41 20z\"/>\n",
              "  </svg>\n",
              "      </button>\n",
              "      \n",
              "  <style>\n",
              "    .colab-df-container {\n",
              "      display:flex;\n",
              "      flex-wrap:wrap;\n",
              "      gap: 12px;\n",
              "    }\n",
              "\n",
              "    .colab-df-convert {\n",
              "      background-color: #E8F0FE;\n",
              "      border: none;\n",
              "      border-radius: 50%;\n",
              "      cursor: pointer;\n",
              "      display: none;\n",
              "      fill: #1967D2;\n",
              "      height: 32px;\n",
              "      padding: 0 0 0 0;\n",
              "      width: 32px;\n",
              "    }\n",
              "\n",
              "    .colab-df-convert:hover {\n",
              "      background-color: #E2EBFA;\n",
              "      box-shadow: 0px 1px 2px rgba(60, 64, 67, 0.3), 0px 1px 3px 1px rgba(60, 64, 67, 0.15);\n",
              "      fill: #174EA6;\n",
              "    }\n",
              "\n",
              "    [theme=dark] .colab-df-convert {\n",
              "      background-color: #3B4455;\n",
              "      fill: #D2E3FC;\n",
              "    }\n",
              "\n",
              "    [theme=dark] .colab-df-convert:hover {\n",
              "      background-color: #434B5C;\n",
              "      box-shadow: 0px 1px 3px 1px rgba(0, 0, 0, 0.15);\n",
              "      filter: drop-shadow(0px 1px 2px rgba(0, 0, 0, 0.3));\n",
              "      fill: #FFFFFF;\n",
              "    }\n",
              "  </style>\n",
              "\n",
              "      <script>\n",
              "        const buttonEl =\n",
              "          document.querySelector('#df-4ab2a4ac-94f9-430a-8874-0331e861c9eb button.colab-df-convert');\n",
              "        buttonEl.style.display =\n",
              "          google.colab.kernel.accessAllowed ? 'block' : 'none';\n",
              "\n",
              "        async function convertToInteractive(key) {\n",
              "          const element = document.querySelector('#df-4ab2a4ac-94f9-430a-8874-0331e861c9eb');\n",
              "          const dataTable =\n",
              "            await google.colab.kernel.invokeFunction('convertToInteractive',\n",
              "                                                     [key], {});\n",
              "          if (!dataTable) return;\n",
              "\n",
              "          const docLinkHtml = 'Like what you see? Visit the ' +\n",
              "            '<a target=\"_blank\" href=https://colab.research.google.com/notebooks/data_table.ipynb>data table notebook</a>'\n",
              "            + ' to learn more about interactive tables.';\n",
              "          element.innerHTML = '';\n",
              "          dataTable['output_type'] = 'display_data';\n",
              "          await google.colab.output.renderOutput(dataTable, element);\n",
              "          const docLink = document.createElement('div');\n",
              "          docLink.innerHTML = docLinkHtml;\n",
              "          element.appendChild(docLink);\n",
              "        }\n",
              "      </script>\n",
              "    </div>\n",
              "  </div>\n",
              "  "
            ]
          },
          "metadata": {},
          "execution_count": 120
        }
      ],
      "source": [
        "iris = pd.read_csv('https://raw.githubusercontent.com/mwaskom/seaborn-data/master/iris.csv')\n",
        "iris.head()"
      ]
    },
    {
      "cell_type": "markdown",
      "metadata": {
        "id": "g-4xQ0xeJYmp"
      },
      "source": [
        "We will select two species: *setosa* and *virginica* and study the sepal length."
      ]
    },
    {
      "cell_type": "code",
      "execution_count": 121,
      "metadata": {
        "id": "VOMfo8XPJYmp"
      },
      "outputs": [],
      "source": [
        "X = iris[iris.species == 'setosa']['sepal_width'].values\n",
        "Y = iris[iris.species == 'virginica']['sepal_width'].values"
      ]
    },
    {
      "cell_type": "markdown",
      "metadata": {
        "id": "rLF0mja8JYmq"
      },
      "source": [
        "Test the hypothesis $H_0$: quantile of level 0.2 (20 percentile, lower 20%) of the sepal length of *setosa* flowers is  larger than that of *virginica* flowers. Use permutation test, approximate the full permutation distribution with 10,000 samples. \n"
      ]
    },
    {
      "cell_type": "markdown",
      "metadata": {
        "id": "LvmTzswaJYmq"
      },
      "source": [
        "**Solution:**"
      ]
    },
    {
      "cell_type": "markdown",
      "source": [
        "Применим permutation test для нулевой гипотезы из задания."
      ],
      "metadata": {
        "id": "EEY1Z9UYISQH"
      }
    },
    {
      "cell_type": "code",
      "execution_count": 122,
      "metadata": {
        "colab": {
          "base_uri": "https://localhost:8080/"
        },
        "id": "_hMLE2FQJYmq",
        "outputId": "3c200ff1-d899-4007-dd85-4b20018c7672"
      },
      "outputs": [
        {
          "output_type": "stream",
          "name": "stdout",
          "text": [
            "3.1\n",
            "2.7\n",
            "3.428\n",
            "2.974\n",
            "p_value = 1.0\n"
          ]
        }
      ],
      "source": [
        "p_value = permutation_test (X, Y, N, \"percentile20oneside\")\n",
        "print (np.percentile (X, 20))\n",
        "print (np.percentile (Y, 20))\n",
        "print (np.mean (X))\n",
        "print (np.mean (Y))\n",
        "print (\"p_value = {}\".format (p_value))"
      ]
    },
    {
      "cell_type": "markdown",
      "source": [
        "Результаты показывают, что p_value очень велико, что не позволяет на отбросить нулевую гипотезу. \n",
        "\n",
        "Теперь применим permutation test для нулевой гипотезе о равенстве квантилей sepal length для двух цветов.  "
      ],
      "metadata": {
        "id": "PMIubjzujjaU"
      }
    },
    {
      "cell_type": "code",
      "source": [
        "p_value = permutation_test (X, Y, N, \"percentile20\")\n",
        "print (p_value)"
      ],
      "metadata": {
        "colab": {
          "base_uri": "https://localhost:8080/"
        },
        "id": "jtxOiIVn_uvp",
        "outputId": "823e65c2-9f5c-40f0-d211-8a6eeb02174f"
      },
      "execution_count": 123,
      "outputs": [
        {
          "output_type": "stream",
          "name": "stdout",
          "text": [
            "0.0\n"
          ]
        }
      ]
    },
    {
      "cell_type": "markdown",
      "source": [
        "Как видно, значение p_value меньше чем $0.05$, что позволяет нам опровергнуть вторую нулевую гипотезу.\n",
        "\n",
        "В таком случае рассмотрим третью нулевую гипотезу о том что sepal length для virginica больше чем sepal length для setosa."
      ],
      "metadata": {
        "id": "v741gdTXAneg"
      }
    },
    {
      "cell_type": "code",
      "source": [
        "p_value = permutation_test (Y, X, N, \"percentile20oneside\")\n",
        "print (p_value)"
      ],
      "metadata": {
        "colab": {
          "base_uri": "https://localhost:8080/"
        },
        "id": "gzlvUnxLBMGQ",
        "outputId": "8688fa92-5aa0-4250-e648-7f3fb12dcb01"
      },
      "execution_count": 124,
      "outputs": [
        {
          "output_type": "stream",
          "name": "stdout",
          "text": [
            "0.0\n"
          ]
        }
      ]
    },
    {
      "cell_type": "markdown",
      "source": [
        "Как видно, p_value опять меньше $0.05$, что позволяет нам отвергнуть третью нулевую гипотезу. В итоге из результатов можно заключить, что нулевая гипотеза из условия верна."
      ],
      "metadata": {
        "id": "Rr4sNDIiAX71"
      }
    },
    {
      "cell_type": "markdown",
      "metadata": {
        "id": "lwmKpN2OJYmq"
      },
      "source": [
        "### Task 3: computational approach to hypothesis testing"
      ]
    },
    {
      "cell_type": "markdown",
      "metadata": {
        "id": "ptlw1HOmJYmr"
      },
      "source": [
        "STRONGLY Recommended reading: http://allendowney.blogspot.com/2016/06/there-is-still-only-one-test.html"
      ]
    },
    {
      "cell_type": "markdown",
      "metadata": {
        "id": "olyGfdvUJYmr"
      },
      "source": [
        "Consider the following dataset (service hours between failures of the air-conditioning equipment in a Boeing 720 jet aircraft , Proschan, 1963):"
      ]
    },
    {
      "cell_type": "code",
      "execution_count": 105,
      "metadata": {
        "id": "2Bvxp3BiJYmr"
      },
      "outputs": [],
      "source": [
        "import numpy as np\n",
        "import scipy\n",
        "import scipy.stats\n",
        "import pandas as pd\n",
        "import matplotlib.pyplot as plt\n",
        "import math\n",
        "\n",
        "Y = np.array([3, 5, 7, 18, 43, 85, 91, 98, 100, 130, 230, 487])"
      ]
    },
    {
      "cell_type": "markdown",
      "metadata": {
        "id": "kMMOokwGJYmr"
      },
      "source": [
        "This sample was sorted for easier presentation."
      ]
    },
    {
      "cell_type": "markdown",
      "metadata": {
        "id": "PvSdk-VtJYmr"
      },
      "source": [
        "1. Compute an estimate of the median time between failures (1 point)\n",
        "2. Consider the null hypothesis $H_0$ to be: \"median time between failures is one week\" (1 point)\n",
        "3. What distribution will you choose for this kind of data under $H_0$? (1 point)\n",
        "4. Choose a statistic to measure the deviation from $H_0$ (effect size) (1 point)\n",
        "5. Check whether you can reject $H_0$ at significance level 5% and calculate the corresponding approximate $p$-value. Use 10,000 simulations for your experiment (1 point)\n",
        "6. Plot histogram of simulated effect sizes and mark the observed effect size (1 bouns point)"
      ]
    },
    {
      "cell_type": "markdown",
      "metadata": {
        "id": "xUZJ_OEZJYms"
      },
      "source": [
        "**Solution:**"
      ]
    },
    {
      "cell_type": "markdown",
      "source": [
        "1) - Будем оценивать медиану по формуле:\n",
        "\n",
        "$$T(X^n) =  \\arg\\max_m \\{\\sum\\limits_{k=1}^n |X_k - m|\\}$$ "
      ],
      "metadata": {
        "id": "E9blz3nvOjXp"
      }
    },
    {
      "cell_type": "code",
      "execution_count": 3,
      "metadata": {
        "colab": {
          "base_uri": "https://localhost:8080/"
        },
        "id": "lWh34OPRJYms",
        "outputId": "396d0219-c047-47f1-fb6c-6d9168be46ae"
      },
      "outputs": [
        {
          "output_type": "stream",
          "name": "stdout",
          "text": [
            "88.0\n"
          ]
        }
      ],
      "source": [
        "\n",
        "\n",
        "initial_median = np.median (Y)\n",
        "print (initial_median)"
      ]
    },
    {
      "cell_type": "markdown",
      "source": [
        "Медиана равна 88"
      ],
      "metadata": {
        "id": "dMoJ6omcL4rV"
      }
    },
    {
      "cell_type": "markdown",
      "source": [
        "2, 3) - Так как представленные данные - это часы между поломками, то они не могут быть отрицательными. Следовательно, необходимо выбрать распределние, плотность вероятности которого равна нулю при отрицательных значениях x. Такому свойству удовлетворяет экспоненциальное распределение, поэтому его и выберем в качестве предполагаемого распределения. Тогда нулевая гипотеза будет иметь вид:\n",
        "\n",
        "$H_0$ : Данные сгенерированы экспоненциальным распределением с медианой равной 168\n",
        "\n",
        "4) - В качестве статистики для измерения отклонения от $H_0$ будем использовать следующую статистику:\n",
        "\n",
        "$$D(X^n) = |T(X^n) - 168|,$$\n",
        "где $T(X^n)$ была определена в пункте (1)\n",
        "\n",
        "5) - Теперь с помощью экспоненциального распределения из нулевой гипотезы сгенерируем $N = 10000$ выборок того же размера, что и исходная. Для каждой выборки посчитаем медиану и найдём долю выборок, где рассчитанное значение медианы оказалось больше медианы для иходной выборки. Полученная доля будет оценкой p_value. Для экспоненциального распределения матожидание равно $\\lambda = \\frac{m}{ln (2)}$, где $m$ - медиана экспоненциального распределения."
      ],
      "metadata": {
        "id": "QAW6NsdOMCLf"
      }
    },
    {
      "cell_type": "code",
      "source": [
        "median = 168\n",
        "num_samples = 10000\n",
        "medians = np.array ([np.median (np.random.exponential (median / np.log (2), Y.size)) for k in range (num_samples)])\n",
        "D_values = abs (medians - median)\n",
        "top_part = (D_values >= abs (initial_median - median)).sum ()\n",
        "print (\"p_value = {}\".format (top_part / num_samples))\n"
      ],
      "metadata": {
        "colab": {
          "base_uri": "https://localhost:8080/"
        },
        "id": "VbXVnthxNa87",
        "outputId": "ef633443-2257-454c-f538-8055cedf4056"
      },
      "execution_count": 8,
      "outputs": [
        {
          "output_type": "stream",
          "name": "stdout",
          "text": [
            "p_value = 0.2146\n"
          ]
        }
      ]
    },
    {
      "cell_type": "markdown",
      "source": [
        "Как видно, полученное значение p_value недостаточно, чтобы отклонить нулевую гипотезу так как оно больше 0.05."
      ],
      "metadata": {
        "id": "9oWXhF45VOiK"
      }
    },
    {
      "cell_type": "markdown",
      "source": [
        "6) - Для выборок, полученных с помощью симуляции, посчитаем количество случаев, в которых $D(X^n)$ находится в интервалах [0, 1), [1, 2), [2, 3) и т.д. Далее построим гистограмму, где по оси OX отложим нижнее значение интервала, а по оси OY число случаев попадания в данный интервал. "
      ],
      "metadata": {
        "id": "YzC8OK4yVhg-"
      }
    },
    {
      "cell_type": "code",
      "source": [
        "ind = 0\n",
        "histogram_data = []\n",
        "processed_cases = 0\n",
        "total_size = D_values.size\n",
        "while (1):\n",
        "    if processed_cases == total_size:\n",
        "        break\n",
        "    array_left = (ind <= D_values)\n",
        "    array_right = (D_values < ind + 1)\n",
        "    num_cases = np.logical_and (array_left, array_right).sum ()\n",
        "    for k in range (num_cases):\n",
        "        histogram_data.append (ind)\n",
        "    processed_cases += num_cases\n",
        "    ind += 1\n",
        "\n",
        "\n",
        "plt.axvline(abs (median - initial_median), 0, 140, label='bin of observed effect size', color='r')\n",
        "plt.hist(histogram_data, bins=400, range=(0, 400))\n",
        "plt.title(\"Number of simulated effect sizes in intervals [i - 1, i]\")\n",
        "plt.legend()\n",
        "plt.show()"
      ],
      "metadata": {
        "colab": {
          "base_uri": "https://localhost:8080/",
          "height": 281
        },
        "id": "yqSHAZ8EZE2V",
        "outputId": "e609c18b-5cba-43ee-802c-f123569db92d"
      },
      "execution_count": 43,
      "outputs": [
        {
          "output_type": "display_data",
          "data": {
            "text/plain": [
              "<Figure size 432x288 with 1 Axes>"
            ],
            "image/png": "[encoded data removed]"
          },
          "metadata": {
            "needs_background": "light"
          }
        }
      ]
    },
    {
      "cell_type": "markdown",
      "metadata": {
        "id": "u3PFS7w1JYms"
      },
      "source": [
        "### Task 4: power analysis"
      ]
    },
    {
      "cell_type": "markdown",
      "metadata": {
        "id": "SB2snDjqJYms"
      },
      "source": [
        "In 1861, 10 essays appeared in the New Orleans Daily Crescent. They\n",
        "were signed “Quintus Curtius Snodgrass” and some people suspected\n",
        "they were actually written by Mark Twain. To investigate this, we will\n",
        "consider the proportion of three letter words found in an author’s work.\n",
        "From eight Twain essays we have:"
      ]
    },
    {
      "cell_type": "code",
      "execution_count": 125,
      "metadata": {
        "id": "9QqmuHXFJYmt"
      },
      "outputs": [],
      "source": [
        "X = np.array([.225, .262, .217, .240, .230, .229, .235, .217])"
      ]
    },
    {
      "cell_type": "markdown",
      "metadata": {
        "id": "1sPC0MK9JYmt"
      },
      "source": [
        "From 10 Snodgrass essays we have:"
      ]
    },
    {
      "cell_type": "code",
      "execution_count": 126,
      "metadata": {
        "id": "AN9dvicaJYmt"
      },
      "outputs": [],
      "source": [
        "Y = np.array([.209, .205, .196, .210, .202, .207, .224, .223, .220, .201])"
      ]
    },
    {
      "cell_type": "markdown",
      "metadata": {
        "id": "Vpqomo-rJYmt"
      },
      "source": [
        "1. Perform a Wald test for equality of the means. Use the nonparametric plug-in estimator. Report the p-value and a 95 per cent confidence\n",
        "interval for the difference of means. What do you conclude? (1.5 points)\n",
        "2. Now use a permutation test to avoid the use of large sample methods.\n",
        "What is your conclusion? (Brinegar (1963)) (1.5 bonus points)\n",
        "3. Assume that samples do indeed come from different populations. Additionally, observed sample means and variaces for the two samples are equal to the true values for the respective population. Estimate the power of the two tests above under two model distributions for the data: Normal and [Beta](https://en.wikipedia.org/wiki/Beta_distribution) (2 bonus points)"
      ]
    },
    {
      "cell_type": "markdown",
      "source": [
        "**Solution:**"
      ],
      "metadata": {
        "id": "P2DwG2hJ0Jbk"
      }
    },
    {
      "cell_type": "markdown",
      "source": [
        "1) - Предположим, что $\\hat{X}$ и $\\hat{Y}$ - это средние значения двух выборок; $s_1^2$ и $s_2^2$ - это дисперсии двух выборок;  $\\hat{\\delta} = \\hat{X} - \\hat{Y}$;\n",
        "\n",
        "$$\\hat{se} = \\sqrt{\\frac{s_1^2}{m} + \\frac{s_2^2}{n}},$$ где $m$ - число элементов в первой выборке, а $n$ - во второй; \n",
        "\n",
        "$$W = \\frac{\\hat{\\delta}}{\\hat{se}}.$$\n",
        "\n",
        "Тогда в соответствии с тестом Вальда нулевая гипотеза о равенстве средних значений двух выборок отклоняется, если $|W| > z_{\\alpha/2}$, где $z_{\\alpha/2} = 𝚽^{-1}(1 - \\alpha / 2)$, а $𝚽$ - функция распределения для стандартного нормального распределения, $\\alpha$ - уровень значимости."
      ],
      "metadata": {
        "id": "d55b2lY1oEeL"
      }
    },
    {
      "cell_type": "code",
      "source": [
        "mean1 = np.mean (X)\n",
        "mean2 = np.mean (Y)\n",
        "var1 = np.var (X)\n",
        "var2 = np.var (Y)\n",
        "se = np.sqrt (var1 / X.size + var2 / Y.size)\n",
        "W = abs (mean1 - mean2) / se\n",
        "sign_level = 0.05\n",
        "\n",
        "z = scipy.stats.norm.ppf (1 - sign_level / 2.)\n",
        "\n",
        "print (\"W = {}\".format (W))\n",
        "print (\"z = {}\".format (z))\n",
        "print (\"The null hypothesis is {}\".format (W <= z))"
      ],
      "metadata": {
        "colab": {
          "base_uri": "https://localhost:8080/"
        },
        "id": "pmzp7l1Kn7sK",
        "outputId": "652f4f21-9a51-4e57-84b5-804627992f87"
      },
      "execution_count": 127,
      "outputs": [
        {
          "output_type": "stream",
          "name": "stdout",
          "text": [
            "W = 3.9446199162650353\n",
            "z = 1.959963984540054\n",
            "The null hypothesis is False\n"
          ]
        }
      ]
    },
    {
      "cell_type": "markdown",
      "source": [
        "Тест Вальда отвергает нулевую гипотезу $H_0 : \\hat{\\delta} = 0$ в пользу $H_1 : \\hat{\\delta} \\neq 0$ тогда и только тогда когда 0 не принадлежит интервалу:\n",
        "\n",
        "$$C_n = (\\hat{\\delta} - \\hat{se}\\cdot z_{\\alpha/2}, \\hat{\\delta} + \\hat{se}\\cdot z_{\\alpha/2}).$$"
      ],
      "metadata": {
        "id": "67ot1Ho9wI2p"
      }
    },
    {
      "cell_type": "code",
      "source": [
        "delta = mean1 - mean2\n",
        "print (\"Confidence interval is ({}, {})\".format (delta - se * z, delta + se * z))"
      ],
      "metadata": {
        "colab": {
          "base_uri": "https://localhost:8080/"
        },
        "id": "BkZZGQbav0OH",
        "outputId": "6d30cc5c-a42b-4fbd-bb45-b73e3329d41a"
      },
      "execution_count": 128,
      "outputs": [
        {
          "output_type": "stream",
          "name": "stdout",
          "text": [
            "Confidence interval is (0.011156903889404914, 0.03319309611059509)\n"
          ]
        }
      ]
    },
    {
      "cell_type": "markdown",
      "source": [
        "Как видно, нуль не принадлежит этому интервалу, что служит основанием для отклонения нулевой гипотезы."
      ],
      "metadata": {
        "id": "YPluXgB6xlHB"
      }
    },
    {
      "cell_type": "markdown",
      "source": [
        "В свою, очередь p_value для теста Вальда можно рассчитать по следующей формуле:\n",
        "$$p\\_value = 2𝚽 (-|w|),$$\n",
        "где \n",
        "$$w = \\frac{\\hat{\\delta} - 0}{\\hat{se}}$$"
      ],
      "metadata": {
        "id": "c4jZYEX0x0gB"
      }
    },
    {
      "cell_type": "code",
      "source": [
        "from scipy.stats import norm\n",
        "\n",
        "w = delta / se\n",
        "p_value = 2. * norm.cdf (-abs(w))\n",
        "print (\"p_value = {}\".format (p_value))"
      ],
      "metadata": {
        "colab": {
          "base_uri": "https://localhost:8080/"
        },
        "id": "SAsMBGONxv1H",
        "outputId": "293d5100-e5c8-4b59-8275-050225987f07"
      },
      "execution_count": 129,
      "outputs": [
        {
          "output_type": "stream",
          "name": "stdout",
          "text": [
            "p_value = 7.9926649561458e-05\n"
          ]
        }
      ]
    },
    {
      "cell_type": "markdown",
      "source": [
        "Как видно, p_value меньше чем $0.05$, что в третий раз подтверждает, что по критерию Вальда нулевую гипотезу следует отвергнуть."
      ],
      "metadata": {
        "id": "58cKiBkqzmEK"
      }
    },
    {
      "cell_type": "markdown",
      "source": [
        "2) - Теперь применим permutation test."
      ],
      "metadata": {
        "id": "DoOWnI4I0ga_"
      }
    },
    {
      "cell_type": "code",
      "execution_count": 130,
      "metadata": {
        "id": "B67s1JVCJYmu",
        "colab": {
          "base_uri": "https://localhost:8080/"
        },
        "outputId": "7363cb6b-ed28-47c8-dd2a-42a7ea6d2bda"
      },
      "outputs": [
        {
          "output_type": "stream",
          "name": "stdout",
          "text": [
            "p_value = 0.0006\n"
          ]
        }
      ],
      "source": [
        "N = 10000\n",
        "print (\"p_value = {}\".format (permutation_test (X, Y, N, \"mean\")))"
      ]
    },
    {
      "cell_type": "markdown",
      "source": [
        "Как видно, значение p_value меньше $0.05$. Это означает, что permutation test также отвергает нулевую гипотезу. "
      ],
      "metadata": {
        "id": "vrkWW5gy9g61"
      }
    },
    {
      "cell_type": "markdown",
      "source": [
        "3) - Мощность теста определяется следующей формулой:\n",
        "\n",
        "$$W(F) = P (X^n \\in \\chi | F),$$\n",
        "\n",
        "где $\\chi$ - критическая область, а $F$ - функция распределения. Для вычисления этой мощности теста численным методом достаточно нагенерировать много пар sample-ов для распределений из условия, а затем найти долю пар sample-ов для которых критерии не выполнены. Сперва выполним эту процедуру для нормального распределния: "
      ],
      "metadata": {
        "id": "284Y6fm09yav"
      }
    },
    {
      "cell_type": "code",
      "source": [
        "def vald_test (X, Y, sign_level):\n",
        "    mean1 = np.mean (X)\n",
        "    mean2 = np.mean (Y)\n",
        "    var1 = np.var (X)\n",
        "    var2 = np.var (Y)\n",
        "    se = np.sqrt (var1 / X.size + var2 / Y.size)\n",
        "    W = abs (mean1 - mean2) / se\n",
        "    z = scipy.stats.norm.ppf (1 - sign_level / 2.)\n",
        "    return (W > z)"
      ],
      "metadata": {
        "id": "VHB3TVjIFaah"
      },
      "execution_count": 136,
      "outputs": []
    },
    {
      "cell_type": "code",
      "source": [
        "\n",
        "\n",
        "vald_test_results = np.array ([vald_test (np.random.normal (mean1, np.sqrt (var1), X.size), np.random.normal (mean2, np.sqrt (var2), Y.size), sign_level) for k in range (N)])\n",
        "print (\"Wald's test power for the normal distribution = {}\".format (vald_test_results.sum () / vald_test_results.size))"
      ],
      "metadata": {
        "colab": {
          "base_uri": "https://localhost:8080/"
        },
        "id": "xZ1l2sur9w5k",
        "outputId": "023f404f-77f4-429a-8c39-d1616e1f08bf"
      },
      "execution_count": 137,
      "outputs": [
        {
          "output_type": "stream",
          "name": "stdout",
          "text": [
            "Wald's test power for the normal distribution = 0.978\n"
          ]
        }
      ]
    },
    {
      "cell_type": "code",
      "source": [
        "permutation_test_results = np.array ([permutation_test (np.random.normal (mean1, np.sqrt (var1), X.size), np.random.normal (mean2, np.sqrt (var2), Y.size), N, \"mean\") for k in range (N // 100)])\n",
        "top_value = (permutation_test_results < 0.05).sum ()\n",
        "print (\"Permutation test power for the normal distribution = {}\".format (top_value / permutation_test_results.size))"
      ],
      "metadata": {
        "colab": {
          "base_uri": "https://localhost:8080/"
        },
        "id": "qO8H-qJGIZ60",
        "outputId": "568179a6-7edd-4f94-96fd-965266da7dbe"
      },
      "execution_count": 138,
      "outputs": [
        {
          "output_type": "stream",
          "name": "stdout",
          "text": [
            "Permutation test power for the normal distribution = 0.96\n"
          ]
        }
      ]
    },
    {
      "cell_type": "markdown",
      "source": [
        "Теперь выполним ту же процедуру для $\\beta$-распределения. Математическое ожидание для $\\beta$ распределения вычисляется по следующей формуле:\n",
        "\n",
        "$$\\mu = \\frac{\\alpha}{\\alpha + \\beta},$$\n",
        "\n",
        "где $\\alpha$ и $\\beta$ - параметры $\\beta$ распределения. Дисперсия вычисляется по следующей формуле:\n",
        "\n",
        "$$V = \\frac{\\alpha\\beta}{(\\alpha + \\beta)^2 (\\alpha + \\beta + 1)}.$$\n",
        "\n",
        "Из этого легко получить, что:\n",
        "\n",
        "$$\\alpha = \\mu\\bigg(\\frac{\\mu (1 - \\mu)}{V} - 1\\bigg)$$\n",
        "\n",
        "$$\\beta = (1 - \\mu)\\bigg(\\frac{\\mu (1 - \\mu)}{V} - 1\\bigg)$$"
      ],
      "metadata": {
        "id": "24QR5k43JFk6"
      }
    },
    {
      "cell_type": "code",
      "source": [
        "alpha1 = mean1 * (mean1 * (1 - mean1) / var1 - 1)\n",
        "beta1 = (1 - mean1) * (mean1 * (1 - mean1) / var1 - 1)\n",
        "alpha2 = mean2 * (mean2 * (1 - mean2) / var2 - 1)\n",
        "beta2 = (1 - mean2) * (mean2 * (1 - mean2) / var2 - 1)"
      ],
      "metadata": {
        "id": "10jU9ZMwOM7g"
      },
      "execution_count": 140,
      "outputs": []
    },
    {
      "cell_type": "code",
      "source": [
        "vald_test_results = np.array ([vald_test (np.random.beta (alpha1, beta1, X.size), np.random.beta (alpha2, beta2, Y.size), sign_level) for k in range (N)])\n",
        "print (\"Wald's test power for the beta distribution = {}\".format (vald_test_results.sum () / vald_test_results.size))"
      ],
      "metadata": {
        "colab": {
          "base_uri": "https://localhost:8080/"
        },
        "id": "obTOaVJGJE1N",
        "outputId": "e829548b-a481-4aa1-d0ef-0cd5073ba600"
      },
      "execution_count": 141,
      "outputs": [
        {
          "output_type": "stream",
          "name": "stdout",
          "text": [
            "Wald's test power for the beta distribution = 0.9805\n"
          ]
        }
      ]
    },
    {
      "cell_type": "code",
      "source": [
        "permutation_test_results = np.array ([permutation_test (np.random.beta (alpha1, beta1, X.size), np.random.beta (alpha2, beta2, Y.size), N, \"mean\") for k in range (N // 100)])\n",
        "top_value = (permutation_test_results < 0.05).sum ()\n",
        "print (\"Permutation test power for the beta distribution = {}\".format (top_value / permutation_test_results.size))"
      ],
      "metadata": {
        "colab": {
          "base_uri": "https://localhost:8080/"
        },
        "id": "InxwtySLPJd8",
        "outputId": "52fc353a-18c5-4620-f1ab-9296e6ece594"
      },
      "execution_count": 142,
      "outputs": [
        {
          "output_type": "stream",
          "name": "stdout",
          "text": [
            "Permutation test power for the beta distribution = 1.0\n"
          ]
        }
      ]
    },
    {
      "cell_type": "code",
      "source": [
        ""
      ],
      "metadata": {
        "id": "x0bujna9PKAr"
      },
      "execution_count": null,
      "outputs": []
    }
  ],
  "metadata": {
    "kernelspec": {
      "display_name": "Python 3",
      "language": "python",
      "name": "python3"
    },
    "language_info": {
      "codemirror_mode": {
        "name": "ipython",
        "version": 3
      },
      "file_extension": ".py",
      "mimetype": "text/x-python",
      "name": "python",
      "nbconvert_exporter": "python",
      "pygments_lexer": "ipython3",
      "version": "3.8.8"
    },
    "colab": {
      "name": "homework_02_iitp.ipynb",
      "provenance": [],
      "collapsed_sections": []
    }
  },
  "nbformat": 4,
  "nbformat_minor": 0
}