{
  "nbformat": 4,
  "nbformat_minor": 0,
  "metadata": {
    "colab": {
      "name": "task_1_Viktor_Torgunakov.ipynb",
      "provenance": [],
      "collapsed_sections": []
    },
    "kernelspec": {
      "name": "python3",
      "display_name": "Python 3"
    },
    "language_info": {
      "name": "python"
    }
  },
  "cells": [
    {
      "cell_type": "markdown",
      "source": [
        "**Задача 2.1.** Назовем турниром ориентированный граф 𝐺 = (𝑉, 𝐸) такой, что\n",
        "$(𝑥, 𝑥) \\not\\in 𝐸$ для любой вершины $𝑥 \\in 𝑉$ , а для любых двух различных вершин $𝑥 \\neq 𝑦$,\n",
        "$𝑥, 𝑦 \\in 𝑉$ либо $(𝑥, 𝑦) \\in 𝐸$, либо $(𝑦, 𝑥) \\in 𝐸$.\n",
        "\n",
        "Множество вершин назовем игроками, каждая пара игроков ровно один раз\n",
        "встречаются на матче, если игрок 𝑥 выигрывает у игрока 𝑦, то $(𝑥, 𝑦) \\in 𝐸$. Гамильтоновым путем графа назовем перестановку вершин $(𝑥_1, 𝑥_2, ..., 𝑥_𝑛)$, что для всех 𝑖 игрок $𝑥_𝑖$ выигрывает у $𝑥_{𝑖+1}$. Покажите, что найдется такой турнир на 𝑛 вершинах, для которого число гамильтоновых путей не меньше чем $𝑛!/(2^{𝑛−1})$."
      ],
      "metadata": {
        "id": "LBIAp9HLQNXb"
      }
    },
    {
      "cell_type": "markdown",
      "source": [
        "**Решение:**\n",
        "\n",
        "1) - Число рёбер в турнире равно $N_e = C^2_n$, так как число рёбер равно числу разных пар вершин. В свою очередь, каждая пара может быть соединена в двух разных направлениях, так что суммарное количество турниров равно $N_t = 2^{C^2_n}$.\n",
        "\n",
        "2) - Введём вероятностное пространство, где элементарными исходами будут различные турниры и вероятность каждого из турниров одинакова и равна $1 / N_t$. Также рассмотрим набор из n вершин $(x_1, x_2, ..., x_n)$. Всего таких наборов n!. Дла каждого i-ого набора вершин введём случаную величину $V_i$, которая равна 1, если вершины турнира образуют гамильтонов путь и нулю в противном случае.\n",
        "\n",
        "3) - $E[V_i] = 1/2^{n - 1}$, как произведение вероятностей того, что один из линков смотрит в нужную нам сторону, то есть n - 1 независимых событий с вероятностью 1/2 каждое.\n",
        "\n",
        "4) - Число гамильтоновых путей в турнире тоже является случайной величиной: $V = \\sum\\limits_{i = 1}^{n!} V_i$ . Её матожидание равно $E[V] = n! / 2^{n - 1}$. Так как все турниры равновероятны, то матожидание - это среднее число гамильтоновых путей в турнире, поэтому существует хотя бы один турнир, число гамильтоновых путей в котором не меньше $n! / 2^{n - 1}$."
      ],
      "metadata": {
        "id": "BWI07q_QSUkq"
      }
    },
    {
      "cell_type": "markdown",
      "source": [
        "**Задача 2.2.** Показать, что распределение Бернулли с параметром $𝜃 \\in (0, 1)$ относится к экспоненциальному классу."
      ],
      "metadata": {
        "id": "3WFpPjGpa2vc"
      }
    },
    {
      "cell_type": "markdown",
      "source": [
        "1) - Говорят, что однопараметрическое дискретное распределение относится к экспоненциальному классу, если его Probability Mass Function представима в виде $f(x|θ) = h(x) \\exp[\\eta (θ) T(x) - A(θ)]$, где $h(x)$ - неотрицательная функция.\n",
        "\n",
        "2) - Для распределения Бурнулли справедливо следующее соотношение:\n",
        "$$f(x|θ) = \\bigg(\\frac{θ}{1 - θ}\\bigg) ^ x (1 - θ) = \\exp[\\ln\\bigg(\\bigg(\\frac{θ}{1 - θ}\\bigg) ^ x \\bigg) + \\ln (1 - θ)] = \\exp[x \\ln\\bigg(\\frac{θ}{1 - θ}\\bigg) + \\ln(1 - θ)]$$\n",
        "где $x \\in \\{0, 1\\}$. То есть $h(x) = 1$, $T(x) = x$, $\\eta (θ) = \\ln \\bigg(\\frac{θ}{1 - θ} \\bigg)$, $A(θ) = -\\ln (1 - θ)$. Это и доказывает утверждение из задачи.  \n"
      ],
      "metadata": {
        "id": "t89DIX1RbIRr"
      }
    },
    {
      "cell_type": "markdown",
      "source": [
        "**Задача 2.3.** Плотность распределения Коши имеет вид:\n",
        "$$p(x|θ) = \\frac{1}{\\pi (1 + (x - θ)^2)}$$\n",
        "**(1 балл)** Подсчитать информацию Фишера 𝐼(𝜃) для такого распределения. Какая проблема у оценки $\\frac{1}{n} \\sum_{i=1}^n x_i$ медианы распределения 𝜃?"
      ],
      "metadata": {
        "id": "omhbSyZBiUUu"
      }
    },
    {
      "cell_type": "markdown",
      "source": [
        "В лекциях было показано, что:\n",
        "$$I(θ) = -\\int \\frac{\\partial^2 \\ln (f(x; θ))}{\\partial θ^2}f(x; θ)dx$$\n",
        "Вычисляя производные:\n",
        "$$\\frac{\\partial \\ln (f(x; θ))}{\\partial θ} = \\frac{2 (x - θ)}{1 + (x - θ)^2}$$\n",
        "$$\\frac{\\partial^2 \\ln (f(x; θ))}{\\partial θ^2} = \\frac{2 ((x - θ)^2 - 1)}{(1 + (x - θ)^2)^2}$$\n",
        "В таком случае:\n",
        "$$I (θ) = -\\int\\limits_{-\\infty}^{+\\infty} \\frac{2 ((x - θ)^2 - 1)}{\\pi (1 + (x - θ)^2)^3}dx = -\\frac{2}{\\pi} \\int\\limits_{-\\infty}^{+\\infty} \\frac{1}{(1 + (x - θ)^2)^2} - \\frac{2}{(1 + (x - θ)^2)^3}dx = -\\frac{2}{\\pi} \\int\\limits_{-\\infty}^{+\\infty} \\frac{1}{(1 + y^2)^2}dy + \\frac{2}{\\pi} \\int\\limits_{-\\infty}^{+\\infty}\\frac{2}{(1 + y^2)^3}dy = -\\frac{2}{\\pi} \\frac{\\pi}{2} + \\frac{2}{\\pi} \\frac{3 \\pi}{4} = \\frac{1}{2}$$\n",
        "В итоге:\n",
        "$$I(θ) = \\frac{1}{2}$$"
      ],
      "metadata": {
        "id": "8-wSLhY9jUW2"
      }
    },
    {
      "cell_type": "markdown",
      "source": [
        "Проблема формулы  $\\frac{1}{n} \\sum_{i=1}^n x_i$ заключается в том, что у распределения Коши не существует дисперсии. Поэтому дисперсия медианы, вычисленная по этой оценке будет очень большой.\n"
      ],
      "metadata": {
        "id": "N1oNbNRAjSrm"
      }
    },
    {
      "cell_type": "markdown",
      "source": [
        "**(2 балла)** Для этого распределения нельзя явно вычислить оценку максимального правдоподобия. Поэтому нужно использовать численное моделирование. Необходимо построить процедуру для получения оценки максимального правдоподобия для медианы распределения Коши и выписать нижнюю оценку Рао-Крамера."
      ],
      "metadata": {
        "id": "49qI-oWzd1fF"
      }
    },
    {
      "cell_type": "markdown",
      "source": [
        "Для распределения Коши $θ$ и будет медианой распределения. Оценка по максимуму правдоподобия выглядит следующим образом:\n",
        "$$\\overline{θ}(X^n) = \\arg\\max_θ \\{ \\sum\\limits_{i=1}^n \\ln(f(x_i; θ)) = \\arg\\max_θ \\{ \\sum\\limits_{i=1}^n \\ln(\\frac{1}{\\pi (1 + (x_i - θ)^2)})\\} = \\arg\\min_θ \\{ \\sum\\limits_{i=1}^n \\ln(1 + (x_i - θ)^2)\\}$$\n",
        "Из формулы видно, то минимальное значение выражения лежит между минимальным и максимальным $x_i$ из выборки, поэтому можно написать следующий псевдокод (далее):"
      ],
      "metadata": {
        "id": "hrhkb45Zd896"
      }
    },
    {
      "cell_type": "code",
      "source": [
        "import numpy as np\n",
        "\n",
        "\n",
        "def mle (samples, theta):\n",
        "    final_value = 0\n",
        "    for ind in range (samples.size):\n",
        "        final_value += np.log (1 + (samples[ind] - theta) * (samples[ind] - theta))\n",
        "    return final_value\n",
        "\n",
        "def find_theta_mle (samples, N):\n",
        "    x_min = np.amin (samples)\n",
        "    x_max = np.amax (samples)\n",
        "\n",
        "    theta_array = np.linspace (x_min, x_max, N)\n",
        "    theta_opt = x_min\n",
        "    min_value = mle (samples, x_min)\n",
        "\n",
        "    for ind in range (theta_array.size):\n",
        "        mle_value = mle (samples, theta_array[ind])\n",
        "        if (mle_value < min_value):\n",
        "            min_value = mle_value\n",
        "            theta_opt = theta_array[ind]\n",
        "    return theta_opt   "
      ],
      "metadata": {
        "id": "aCOUF585gaVv"
      },
      "execution_count": null,
      "outputs": []
    },
    {
      "cell_type": "code",
      "source": [
        "theta_real = 6\n",
        "num_samples = 100\n",
        "samples = np.random.standard_cauchy (num_samples) + np.array([theta_real] * num_samples)\n",
        "\n",
        "\n",
        "theta = find_theta_mle (samples, 10000)\n",
        "print (theta)\n"
      ],
      "metadata": {
        "colab": {
          "base_uri": "https://localhost:8080/"
        },
        "id": "HlKmul9ujm5y",
        "outputId": "00d14916-6738-4e18-84fb-1ab6bd2e9ca5"
      },
      "execution_count": null,
      "outputs": [
        {
          "output_type": "stream",
          "name": "stdout",
          "text": [
            "6.034847899277686\n"
          ]
        }
      ]
    },
    {
      "cell_type": "code",
      "source": [
        "import matplotlib.pyplot as plt\n",
        "\n",
        "x_min = np.amin (samples)\n",
        "x_max = np.amax (samples)\n",
        "theta_array = np.linspace (x_min, x_max, 10000)\n",
        "mle_array = [mle (samples, theta_array[ind]) for ind in range (theta_array.size)]\n",
        "\n",
        "plt.figure(figsize=[8, 3], dpi=110)\n",
        "plt.plot(theta_array, mle_array)\n",
        "plt.xlabel(\"$\\\\theta$\")\n",
        "# plt.xlim ([1, 10])\n",
        "plt.ylabel(\"$|l_n(\\\\theta)|$\")\n",
        "plt.title(\"MLE\")\n",
        "plt.grid()\n",
        "plt.show()"
      ],
      "metadata": {
        "colab": {
          "base_uri": "https://localhost:8080/",
          "height": 359
        },
        "id": "zL1-78GjmI2m",
        "outputId": "766714ed-fcc9-4530-cf58-1424cef12454"
      },
      "execution_count": null,
      "outputs": [
        {
          "output_type": "display_data",
          "data": {
            "text/plain": [
              "<Figure size 880x330 with 1 Axes>"
            ],
            "image/png": "[encoded data removed]"
          },
          "metadata": {
            "needs_background": "light"
          }
        }
      ]
    },
    {
      "cell_type": "code",
      "source": [
        "plt.figure(figsize=[8, 3], dpi=110)\n",
        "plt.plot(theta_array, mle_array)\n",
        "plt.xlabel(\"$\\\\theta$\")\n",
        "plt.xlim ([0, 10])\n",
        "plt.ylabel(\"$|l_n(\\\\theta)|$\")\n",
        "plt.title(\"MLE\")\n",
        "plt.grid()\n",
        "plt.show()"
      ],
      "metadata": {
        "colab": {
          "base_uri": "https://localhost:8080/",
          "height": 359
        },
        "id": "n2p459-UniKt",
        "outputId": "8a798f21-50d5-4b1b-98d5-0d89c6d09ba4"
      },
      "execution_count": null,
      "outputs": [
        {
          "output_type": "display_data",
          "data": {
            "text/plain": [
              "<Figure size 880x330 with 1 Axes>"
            ],
            "image/png": "[encoded data removed]"
          },
          "metadata": {
            "needs_background": "light"
          }
        }
      ]
    },
    {
      "cell_type": "markdown",
      "source": [
        "В лекциях была выведена нижняя оценка Рао-Крамера:\n",
        "$$V(\\hat{\\theta}_n) \\geq \\frac{1}{I_n(\\theta_*)} = \\frac{1}{n I(\\theta_*)} = \\frac{2}{n}$$\n",
        "Для $n = 100$:\n",
        "$$V(\\hat{\\theta}_n) \\geq 0.02$$"
      ],
      "metadata": {
        "id": "tQYZC4CVogZI"
      }
    },
    {
      "cell_type": "markdown",
      "source": [
        "**(3 балла)** Оценить численно дисперсию получаемой оценки максимального\n",
        "правдоподобия и сравнить с нижней оценкой Рао-Крамера."
      ],
      "metadata": {
        "id": "r8TaTWjoq0DE"
      }
    },
    {
      "cell_type": "markdown",
      "source": [
        "Оценка делается посредством bootstrap. Математически метод выглядит следующим образом:\n",
        "\n",
        "1. Взять n значений из эмпирического распредления: $X_1^*, ..., X_n^* \\sim \\hat{F}_n$ \n",
        "2. Вычислить значение метрики $T^*_n = g (X_1^*, ..., X_n^*)$\n",
        "3. B раз повторить шаги 1 и 2 и получить $T_{n, 1}^*, ..., T_{n, B}^*$\n",
        "4. Получить оценку дисперсии $v_{boot} = \\frac{1}{B}\\sum\\limits_{b=1}^{B}\\bigg(T_{n, b}^* - \\frac{1}{B} \\sum\\limits_{r=1}^{B}T_{n, r}^* \\bigg)^2$"
      ],
      "metadata": {
        "id": "8y1Jikf0r-Lw"
      }
    },
    {
      "cell_type": "code",
      "source": [
        "\n",
        "def generate_sample (samples):\n",
        "    ind_array = np.random.randint(samples.size, size=samples.size)\n",
        "    final_array = np.array ([samples[ind_array[ind]] for ind in range (samples.size)])\n",
        "    return final_array\n",
        "\n",
        "def get_metric_array (samples, B):\n",
        "    metric_array = [0] * B\n",
        "    for ind in range (B):\n",
        "        emp_samples = generate_sample (samples)\n",
        "        metric_array[ind] = find_theta_mle (emp_samples, 10000)\n",
        "    return np.array (metric_array)    \n",
        "\n",
        "def get_bootstrap (samples, B):\n",
        "    metric_array = get_metric_array (samples, B)\n",
        "\n",
        "    metric_mean = 0\n",
        "    for ind in range (B):\n",
        "        metric_mean += metric_array[ind]\n",
        "    metric_mean /= B\n",
        "    \n",
        "    v_boot = 0\n",
        "    for ind in range (B):\n",
        "        v_boot += (metric_array[ind] - metric_mean) * (metric_array[ind] - metric_mean)\n",
        "    v_boot /= B\n",
        "    return v_boot\n"
      ],
      "metadata": {
        "id": "btoO38wXwCS7"
      },
      "execution_count": null,
      "outputs": []
    },
    {
      "cell_type": "code",
      "source": [
        "print (get_bootstrap (samples, 40))"
      ],
      "metadata": {
        "colab": {
          "base_uri": "https://localhost:8080/"
        },
        "id": "UV-XTLmWq16B",
        "outputId": "7be6cecf-349b-4f1e-8652-a76788123ad0"
      },
      "execution_count": null,
      "outputs": [
        {
          "output_type": "stream",
          "name": "stdout",
          "text": [
            "0.02100885716709059\n"
          ]
        }
      ]
    },
    {
      "cell_type": "markdown",
      "source": [
        "$v_{boot} = 0.02100885716709059 > 0.2 = V(\\hat{\\theta}_n)$"
      ],
      "metadata": {
        "id": "HvXkmOE5zUS6"
      }
    },
    {
      "cell_type": "markdown",
      "source": [
        ""
      ],
      "metadata": {
        "id": "5Qtz0Pn1oScO"
      }
    }
  ]
}